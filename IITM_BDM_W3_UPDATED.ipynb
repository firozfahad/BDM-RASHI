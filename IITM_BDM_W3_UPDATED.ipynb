{
  "cells": [
    {
      "cell_type": "markdown",
      "metadata": {
        "id": "D0myn6PKRUFA"
      },
      "source": [
        "Instructions:\n",
        "1. Press \"CTRL + F9\" to run all cells at once. (Or manually run one by one)\n",
        "2. Go back to first cell, and click on \"Choose Files\" button to upload your file.\n",
        "3. Wait for a couple of seconds, and a new file will be downloaded automatically.\n",
        "4. Upload the new file to the IITM portal."
      ]
    },
    {
      "cell_type": "code",
      "execution_count": null,
      "metadata": {
        "colab": {
          "base_uri": "https://localhost:8080/",
          "height": 73
        },
        "id": "MVfW9HMZRUFE",
        "outputId": "1e4b0fa2-0aad-4cf2-bf03-fa0af8928488"
      },
      "outputs": [
        {
          "output_type": "display_data",
          "data": {
            "text/plain": [
              "<IPython.core.display.HTML object>"
            ],
            "text/html": [
              "\n",
              "     <input type=\"file\" id=\"files-ffabaf2b-ad26-4c21-a397-57da461bca97\" name=\"files[]\" multiple disabled\n",
              "        style=\"border:none\" />\n",
              "     <output id=\"result-ffabaf2b-ad26-4c21-a397-57da461bca97\">\n",
              "      Upload widget is only available when the cell has been executed in the\n",
              "      current browser session. Please rerun this cell to enable.\n",
              "      </output>\n",
              "      <script>// Copyright 2017 Google LLC\n",
              "//\n",
              "// Licensed under the Apache License, Version 2.0 (the \"License\");\n",
              "// you may not use this file except in compliance with the License.\n",
              "// You may obtain a copy of the License at\n",
              "//\n",
              "//      http://www.apache.org/licenses/LICENSE-2.0\n",
              "//\n",
              "// Unless required by applicable law or agreed to in writing, software\n",
              "// distributed under the License is distributed on an \"AS IS\" BASIS,\n",
              "// WITHOUT WARRANTIES OR CONDITIONS OF ANY KIND, either express or implied.\n",
              "// See the License for the specific language governing permissions and\n",
              "// limitations under the License.\n",
              "\n",
              "/**\n",
              " * @fileoverview Helpers for google.colab Python module.\n",
              " */\n",
              "(function(scope) {\n",
              "function span(text, styleAttributes = {}) {\n",
              "  const element = document.createElement('span');\n",
              "  element.textContent = text;\n",
              "  for (const key of Object.keys(styleAttributes)) {\n",
              "    element.style[key] = styleAttributes[key];\n",
              "  }\n",
              "  return element;\n",
              "}\n",
              "\n",
              "// Max number of bytes which will be uploaded at a time.\n",
              "const MAX_PAYLOAD_SIZE = 100 * 1024;\n",
              "\n",
              "function _uploadFiles(inputId, outputId) {\n",
              "  const steps = uploadFilesStep(inputId, outputId);\n",
              "  const outputElement = document.getElementById(outputId);\n",
              "  // Cache steps on the outputElement to make it available for the next call\n",
              "  // to uploadFilesContinue from Python.\n",
              "  outputElement.steps = steps;\n",
              "\n",
              "  return _uploadFilesContinue(outputId);\n",
              "}\n",
              "\n",
              "// This is roughly an async generator (not supported in the browser yet),\n",
              "// where there are multiple asynchronous steps and the Python side is going\n",
              "// to poll for completion of each step.\n",
              "// This uses a Promise to block the python side on completion of each step,\n",
              "// then passes the result of the previous step as the input to the next step.\n",
              "function _uploadFilesContinue(outputId) {\n",
              "  const outputElement = document.getElementById(outputId);\n",
              "  const steps = outputElement.steps;\n",
              "\n",
              "  const next = steps.next(outputElement.lastPromiseValue);\n",
              "  return Promise.resolve(next.value.promise).then((value) => {\n",
              "    // Cache the last promise value to make it available to the next\n",
              "    // step of the generator.\n",
              "    outputElement.lastPromiseValue = value;\n",
              "    return next.value.response;\n",
              "  });\n",
              "}\n",
              "\n",
              "/**\n",
              " * Generator function which is called between each async step of the upload\n",
              " * process.\n",
              " * @param {string} inputId Element ID of the input file picker element.\n",
              " * @param {string} outputId Element ID of the output display.\n",
              " * @return {!Iterable<!Object>} Iterable of next steps.\n",
              " */\n",
              "function* uploadFilesStep(inputId, outputId) {\n",
              "  const inputElement = document.getElementById(inputId);\n",
              "  inputElement.disabled = false;\n",
              "\n",
              "  const outputElement = document.getElementById(outputId);\n",
              "  outputElement.innerHTML = '';\n",
              "\n",
              "  const pickedPromise = new Promise((resolve) => {\n",
              "    inputElement.addEventListener('change', (e) => {\n",
              "      resolve(e.target.files);\n",
              "    });\n",
              "  });\n",
              "\n",
              "  const cancel = document.createElement('button');\n",
              "  inputElement.parentElement.appendChild(cancel);\n",
              "  cancel.textContent = 'Cancel upload';\n",
              "  const cancelPromise = new Promise((resolve) => {\n",
              "    cancel.onclick = () => {\n",
              "      resolve(null);\n",
              "    };\n",
              "  });\n",
              "\n",
              "  // Wait for the user to pick the files.\n",
              "  const files = yield {\n",
              "    promise: Promise.race([pickedPromise, cancelPromise]),\n",
              "    response: {\n",
              "      action: 'starting',\n",
              "    }\n",
              "  };\n",
              "\n",
              "  cancel.remove();\n",
              "\n",
              "  // Disable the input element since further picks are not allowed.\n",
              "  inputElement.disabled = true;\n",
              "\n",
              "  if (!files) {\n",
              "    return {\n",
              "      response: {\n",
              "        action: 'complete',\n",
              "      }\n",
              "    };\n",
              "  }\n",
              "\n",
              "  for (const file of files) {\n",
              "    const li = document.createElement('li');\n",
              "    li.append(span(file.name, {fontWeight: 'bold'}));\n",
              "    li.append(span(\n",
              "        `(${file.type || 'n/a'}) - ${file.size} bytes, ` +\n",
              "        `last modified: ${\n",
              "            file.lastModifiedDate ? file.lastModifiedDate.toLocaleDateString() :\n",
              "                                    'n/a'} - `));\n",
              "    const percent = span('0% done');\n",
              "    li.appendChild(percent);\n",
              "\n",
              "    outputElement.appendChild(li);\n",
              "\n",
              "    const fileDataPromise = new Promise((resolve) => {\n",
              "      const reader = new FileReader();\n",
              "      reader.onload = (e) => {\n",
              "        resolve(e.target.result);\n",
              "      };\n",
              "      reader.readAsArrayBuffer(file);\n",
              "    });\n",
              "    // Wait for the data to be ready.\n",
              "    let fileData = yield {\n",
              "      promise: fileDataPromise,\n",
              "      response: {\n",
              "        action: 'continue',\n",
              "      }\n",
              "    };\n",
              "\n",
              "    // Use a chunked sending to avoid message size limits. See b/62115660.\n",
              "    let position = 0;\n",
              "    do {\n",
              "      const length = Math.min(fileData.byteLength - position, MAX_PAYLOAD_SIZE);\n",
              "      const chunk = new Uint8Array(fileData, position, length);\n",
              "      position += length;\n",
              "\n",
              "      const base64 = btoa(String.fromCharCode.apply(null, chunk));\n",
              "      yield {\n",
              "        response: {\n",
              "          action: 'append',\n",
              "          file: file.name,\n",
              "          data: base64,\n",
              "        },\n",
              "      };\n",
              "\n",
              "      let percentDone = fileData.byteLength === 0 ?\n",
              "          100 :\n",
              "          Math.round((position / fileData.byteLength) * 100);\n",
              "      percent.textContent = `${percentDone}% done`;\n",
              "\n",
              "    } while (position < fileData.byteLength);\n",
              "  }\n",
              "\n",
              "  // All done.\n",
              "  yield {\n",
              "    response: {\n",
              "      action: 'complete',\n",
              "    }\n",
              "  };\n",
              "}\n",
              "\n",
              "scope.google = scope.google || {};\n",
              "scope.google.colab = scope.google.colab || {};\n",
              "scope.google.colab._files = {\n",
              "  _uploadFiles,\n",
              "  _uploadFilesContinue,\n",
              "};\n",
              "})(self);\n",
              "</script> "
            ]
          },
          "metadata": {}
        },
        {
          "output_type": "stream",
          "name": "stdout",
          "text": [
            "Saving dataset_3_931.xlsx to dataset_3_931.xlsx\n"
          ]
        }
      ],
      "source": [
        "import pandas as pd\n",
        "from google.colab import files\n",
        "import io\n",
        "\n",
        "uploaded = files.upload()\n",
        "file_name = next(iter(uploaded.keys()))\n",
        "df = pd.read_excel(io.BytesIO(uploaded[file_name]), skiprows=1)\n",
        "WRITE_PATH = f\"answers_{file_name.split('.')[0]}.csv\""
      ]
    },
    {
      "cell_type": "code",
      "execution_count": null,
      "metadata": {
        "id": "4aJW8gW8RUFH"
      },
      "outputs": [],
      "source": [
        "# Init answers\n",
        "ans = dict.fromkeys([\"Q\"+str(i) for i in range(1,11)], 0)"
      ]
    },
    {
      "cell_type": "code",
      "execution_count": null,
      "metadata": {
        "colab": {
          "base_uri": "https://localhost:8080/",
          "height": 526
        },
        "id": "En__pTDNRUFI",
        "outputId": "99ed99ed-7cbf-46b6-852c-f3451807b659"
      },
      "outputs": [
        {
          "output_type": "stream",
          "name": "stdout",
          "text": [
            "(100, 40)\n",
            "Index(['STATE', 'REGION_TYPE', 'RESPONSE_STATUS', 'AGE_GROUP', 'INCOME_GROUP',\n",
            "       'OCCUPATION_GROUP', 'EDUCATION_GROUP', 'GENDER_GROUP', 'POWER_GROUP',\n",
            "       'TRAVEL_GROUP', 'SIZE_GROUP', 'HAS_ACCESS_TO_ELECTRICITY',\n",
            "       'POWER_AVAILABILITY_IN_HOURS_PER_DAY', 'TIME_TO_TRAVEL_TEN_KMS',\n",
            "       'HOUSES_OWNED', 'BOUGHT_HOUSE', 'WILL_BUY_HOUSE', 'WILL_BUY_HOUSE_NOW',\n",
            "       'GOOD_TIME_TO_BUY_HOUSE', 'CARS_OWNED', 'TYPE_OF_CAR_OWNED',\n",
            "       'BOUGHT_CAR', 'WILL_BUY_CAR', 'WILL_BUY_CAR_OF_TYPE',\n",
            "       'WILL_BUY_CAR_NOW', 'GOOD_TIME_TO_BUY_CAR', 'TWO_WHEELERS_OWNED',\n",
            "       'TYPE_OF_TWO_WHEELER_OWNED', 'BOUGHT_TWO_WHEELER',\n",
            "       'WILL_BUY_TWO_WHEELER', 'WILL_BUY_TWO_WHEELER_OF_TYPE',\n",
            "       'WILL_BUY_TWO_WHEELER_NOW', 'GOOD_TIME_TO_BUY_TWO_WHEELER',\n",
            "       'HAS_OUTSTANDING_SAVING_IN_FIXED_DEPOSITS', 'HAS_OUTSTANDING_BORROWING',\n",
            "       'BORROWED_FOR_CONSUMPTION_EXPENDITURE',\n",
            "       'BORROWED_FOR_CONSUMER_DURABLES', 'BORROWED_FOR_VEHICLES',\n",
            "       'BORROWED_FROM_BANK', 'BORROWED_FROM_BANK_FOR_VEHICLES'],\n",
            "      dtype='object')\n"
          ]
        },
        {
          "output_type": "execute_result",
          "data": {
            "text/plain": [
              "     STATE REGION_TYPE RESPONSE_STATUS                            AGE_GROUP  \\\n",
              "0  Gujarat       URBAN        Accepted  Balanced households with no Seniors   \n",
              "1  Haryana       URBAN        Accepted                  Grown-up - dominant   \n",
              "\n",
              "      INCOME_GROUP                 OCCUPATION_GROUP  \\\n",
              "0  500000 - 600000  White-collar Clerical Employees   \n",
              "1  400000 - 500000           Small/Marginal Farmers   \n",
              "\n",
              "               EDUCATION_GROUP GENDER_GROUP  POWER_GROUP   TRAVEL_GROUP  ...  \\\n",
              "0  Households of all literates     Balanced  12-24 hours  30-60 minutes  ...   \n",
              "1   All Matriculates household     Balanced     24 hours  15-30 minutes  ...   \n",
              "\n",
              "  WILL_BUY_TWO_WHEELER_OF_TYPE WILL_BUY_TWO_WHEELER_NOW  \\\n",
              "0               Not Applicable                        N   \n",
              "1               Not Applicable                        N   \n",
              "\n",
              "   GOOD_TIME_TO_BUY_TWO_WHEELER  HAS_OUTSTANDING_SAVING_IN_FIXED_DEPOSITS  \\\n",
              "0                           NaN                                         N   \n",
              "1                           NaN                                         Y   \n",
              "\n",
              "   HAS_OUTSTANDING_BORROWING BORROWED_FOR_CONSUMPTION_EXPENDITURE  \\\n",
              "0                          N                                    N   \n",
              "1                          Y                                    N   \n",
              "\n",
              "  BORROWED_FOR_CONSUMER_DURABLES BORROWED_FOR_VEHICLES BORROWED_FROM_BANK  \\\n",
              "0                              N                     N                  N   \n",
              "1                              N                     N                  N   \n",
              "\n",
              "   BORROWED_FROM_BANK_FOR_VEHICLES  \n",
              "0                                N  \n",
              "1                                N  \n",
              "\n",
              "[2 rows x 40 columns]"
            ],
            "text/html": [
              "\n",
              "  <div id=\"df-3daae6c0-5573-48d5-a543-0c7f05073b6f\" class=\"colab-df-container\">\n",
              "    <div>\n",
              "<style scoped>\n",
              "    .dataframe tbody tr th:only-of-type {\n",
              "        vertical-align: middle;\n",
              "    }\n",
              "\n",
              "    .dataframe tbody tr th {\n",
              "        vertical-align: top;\n",
              "    }\n",
              "\n",
              "    .dataframe thead th {\n",
              "        text-align: right;\n",
              "    }\n",
              "</style>\n",
              "<table border=\"1\" class=\"dataframe\">\n",
              "  <thead>\n",
              "    <tr style=\"text-align: right;\">\n",
              "      <th></th>\n",
              "      <th>STATE</th>\n",
              "      <th>REGION_TYPE</th>\n",
              "      <th>RESPONSE_STATUS</th>\n",
              "      <th>AGE_GROUP</th>\n",
              "      <th>INCOME_GROUP</th>\n",
              "      <th>OCCUPATION_GROUP</th>\n",
              "      <th>EDUCATION_GROUP</th>\n",
              "      <th>GENDER_GROUP</th>\n",
              "      <th>POWER_GROUP</th>\n",
              "      <th>TRAVEL_GROUP</th>\n",
              "      <th>...</th>\n",
              "      <th>WILL_BUY_TWO_WHEELER_OF_TYPE</th>\n",
              "      <th>WILL_BUY_TWO_WHEELER_NOW</th>\n",
              "      <th>GOOD_TIME_TO_BUY_TWO_WHEELER</th>\n",
              "      <th>HAS_OUTSTANDING_SAVING_IN_FIXED_DEPOSITS</th>\n",
              "      <th>HAS_OUTSTANDING_BORROWING</th>\n",
              "      <th>BORROWED_FOR_CONSUMPTION_EXPENDITURE</th>\n",
              "      <th>BORROWED_FOR_CONSUMER_DURABLES</th>\n",
              "      <th>BORROWED_FOR_VEHICLES</th>\n",
              "      <th>BORROWED_FROM_BANK</th>\n",
              "      <th>BORROWED_FROM_BANK_FOR_VEHICLES</th>\n",
              "    </tr>\n",
              "  </thead>\n",
              "  <tbody>\n",
              "    <tr>\n",
              "      <th>0</th>\n",
              "      <td>Gujarat</td>\n",
              "      <td>URBAN</td>\n",
              "      <td>Accepted</td>\n",
              "      <td>Balanced households with no Seniors</td>\n",
              "      <td>500000 - 600000</td>\n",
              "      <td>White-collar Clerical Employees</td>\n",
              "      <td>Households of all literates</td>\n",
              "      <td>Balanced</td>\n",
              "      <td>12-24 hours</td>\n",
              "      <td>30-60 minutes</td>\n",
              "      <td>...</td>\n",
              "      <td>Not Applicable</td>\n",
              "      <td>N</td>\n",
              "      <td>NaN</td>\n",
              "      <td>N</td>\n",
              "      <td>N</td>\n",
              "      <td>N</td>\n",
              "      <td>N</td>\n",
              "      <td>N</td>\n",
              "      <td>N</td>\n",
              "      <td>N</td>\n",
              "    </tr>\n",
              "    <tr>\n",
              "      <th>1</th>\n",
              "      <td>Haryana</td>\n",
              "      <td>URBAN</td>\n",
              "      <td>Accepted</td>\n",
              "      <td>Grown-up - dominant</td>\n",
              "      <td>400000 - 500000</td>\n",
              "      <td>Small/Marginal Farmers</td>\n",
              "      <td>All Matriculates household</td>\n",
              "      <td>Balanced</td>\n",
              "      <td>24 hours</td>\n",
              "      <td>15-30 minutes</td>\n",
              "      <td>...</td>\n",
              "      <td>Not Applicable</td>\n",
              "      <td>N</td>\n",
              "      <td>NaN</td>\n",
              "      <td>Y</td>\n",
              "      <td>Y</td>\n",
              "      <td>N</td>\n",
              "      <td>N</td>\n",
              "      <td>N</td>\n",
              "      <td>N</td>\n",
              "      <td>N</td>\n",
              "    </tr>\n",
              "  </tbody>\n",
              "</table>\n",
              "<p>2 rows × 40 columns</p>\n",
              "</div>\n",
              "    <div class=\"colab-df-buttons\">\n",
              "\n",
              "  <div class=\"colab-df-container\">\n",
              "    <button class=\"colab-df-convert\" onclick=\"convertToInteractive('df-3daae6c0-5573-48d5-a543-0c7f05073b6f')\"\n",
              "            title=\"Convert this dataframe to an interactive table.\"\n",
              "            style=\"display:none;\">\n",
              "\n",
              "  <svg xmlns=\"http://www.w3.org/2000/svg\" height=\"24px\" viewBox=\"0 -960 960 960\">\n",
              "    <path d=\"M120-120v-720h720v720H120Zm60-500h600v-160H180v160Zm220 220h160v-160H400v160Zm0 220h160v-160H400v160ZM180-400h160v-160H180v160Zm440 0h160v-160H620v160ZM180-180h160v-160H180v160Zm440 0h160v-160H620v160Z\"/>\n",
              "  </svg>\n",
              "    </button>\n",
              "\n",
              "  <style>\n",
              "    .colab-df-container {\n",
              "      display:flex;\n",
              "      gap: 12px;\n",
              "    }\n",
              "\n",
              "    .colab-df-convert {\n",
              "      background-color: #E8F0FE;\n",
              "      border: none;\n",
              "      border-radius: 50%;\n",
              "      cursor: pointer;\n",
              "      display: none;\n",
              "      fill: #1967D2;\n",
              "      height: 32px;\n",
              "      padding: 0 0 0 0;\n",
              "      width: 32px;\n",
              "    }\n",
              "\n",
              "    .colab-df-convert:hover {\n",
              "      background-color: #E2EBFA;\n",
              "      box-shadow: 0px 1px 2px rgba(60, 64, 67, 0.3), 0px 1px 3px 1px rgba(60, 64, 67, 0.15);\n",
              "      fill: #174EA6;\n",
              "    }\n",
              "\n",
              "    .colab-df-buttons div {\n",
              "      margin-bottom: 4px;\n",
              "    }\n",
              "\n",
              "    [theme=dark] .colab-df-convert {\n",
              "      background-color: #3B4455;\n",
              "      fill: #D2E3FC;\n",
              "    }\n",
              "\n",
              "    [theme=dark] .colab-df-convert:hover {\n",
              "      background-color: #434B5C;\n",
              "      box-shadow: 0px 1px 3px 1px rgba(0, 0, 0, 0.15);\n",
              "      filter: drop-shadow(0px 1px 2px rgba(0, 0, 0, 0.3));\n",
              "      fill: #FFFFFF;\n",
              "    }\n",
              "  </style>\n",
              "\n",
              "    <script>\n",
              "      const buttonEl =\n",
              "        document.querySelector('#df-3daae6c0-5573-48d5-a543-0c7f05073b6f button.colab-df-convert');\n",
              "      buttonEl.style.display =\n",
              "        google.colab.kernel.accessAllowed ? 'block' : 'none';\n",
              "\n",
              "      async function convertToInteractive(key) {\n",
              "        const element = document.querySelector('#df-3daae6c0-5573-48d5-a543-0c7f05073b6f');\n",
              "        const dataTable =\n",
              "          await google.colab.kernel.invokeFunction('convertToInteractive',\n",
              "                                                    [key], {});\n",
              "        if (!dataTable) return;\n",
              "\n",
              "        const docLinkHtml = 'Like what you see? Visit the ' +\n",
              "          '<a target=\"_blank\" href=https://colab.research.google.com/notebooks/data_table.ipynb>data table notebook</a>'\n",
              "          + ' to learn more about interactive tables.';\n",
              "        element.innerHTML = '';\n",
              "        dataTable['output_type'] = 'display_data';\n",
              "        await google.colab.output.renderOutput(dataTable, element);\n",
              "        const docLink = document.createElement('div');\n",
              "        docLink.innerHTML = docLinkHtml;\n",
              "        element.appendChild(docLink);\n",
              "      }\n",
              "    </script>\n",
              "  </div>\n",
              "\n",
              "\n",
              "<div id=\"df-9cb7c831-4e8b-48b0-b3bb-fd815abde973\">\n",
              "  <button class=\"colab-df-quickchart\" onclick=\"quickchart('df-9cb7c831-4e8b-48b0-b3bb-fd815abde973')\"\n",
              "            title=\"Suggest charts.\"\n",
              "            style=\"display:none;\">\n",
              "\n",
              "<svg xmlns=\"http://www.w3.org/2000/svg\" height=\"24px\"viewBox=\"0 0 24 24\"\n",
              "     width=\"24px\">\n",
              "    <g>\n",
              "        <path d=\"M19 3H5c-1.1 0-2 .9-2 2v14c0 1.1.9 2 2 2h14c1.1 0 2-.9 2-2V5c0-1.1-.9-2-2-2zM9 17H7v-7h2v7zm4 0h-2V7h2v10zm4 0h-2v-4h2v4z\"/>\n",
              "    </g>\n",
              "</svg>\n",
              "  </button>\n",
              "\n",
              "<style>\n",
              "  .colab-df-quickchart {\n",
              "      --bg-color: #E8F0FE;\n",
              "      --fill-color: #1967D2;\n",
              "      --hover-bg-color: #E2EBFA;\n",
              "      --hover-fill-color: #174EA6;\n",
              "      --disabled-fill-color: #AAA;\n",
              "      --disabled-bg-color: #DDD;\n",
              "  }\n",
              "\n",
              "  [theme=dark] .colab-df-quickchart {\n",
              "      --bg-color: #3B4455;\n",
              "      --fill-color: #D2E3FC;\n",
              "      --hover-bg-color: #434B5C;\n",
              "      --hover-fill-color: #FFFFFF;\n",
              "      --disabled-bg-color: #3B4455;\n",
              "      --disabled-fill-color: #666;\n",
              "  }\n",
              "\n",
              "  .colab-df-quickchart {\n",
              "    background-color: var(--bg-color);\n",
              "    border: none;\n",
              "    border-radius: 50%;\n",
              "    cursor: pointer;\n",
              "    display: none;\n",
              "    fill: var(--fill-color);\n",
              "    height: 32px;\n",
              "    padding: 0;\n",
              "    width: 32px;\n",
              "  }\n",
              "\n",
              "  .colab-df-quickchart:hover {\n",
              "    background-color: var(--hover-bg-color);\n",
              "    box-shadow: 0 1px 2px rgba(60, 64, 67, 0.3), 0 1px 3px 1px rgba(60, 64, 67, 0.15);\n",
              "    fill: var(--button-hover-fill-color);\n",
              "  }\n",
              "\n",
              "  .colab-df-quickchart-complete:disabled,\n",
              "  .colab-df-quickchart-complete:disabled:hover {\n",
              "    background-color: var(--disabled-bg-color);\n",
              "    fill: var(--disabled-fill-color);\n",
              "    box-shadow: none;\n",
              "  }\n",
              "\n",
              "  .colab-df-spinner {\n",
              "    border: 2px solid var(--fill-color);\n",
              "    border-color: transparent;\n",
              "    border-bottom-color: var(--fill-color);\n",
              "    animation:\n",
              "      spin 1s steps(1) infinite;\n",
              "  }\n",
              "\n",
              "  @keyframes spin {\n",
              "    0% {\n",
              "      border-color: transparent;\n",
              "      border-bottom-color: var(--fill-color);\n",
              "      border-left-color: var(--fill-color);\n",
              "    }\n",
              "    20% {\n",
              "      border-color: transparent;\n",
              "      border-left-color: var(--fill-color);\n",
              "      border-top-color: var(--fill-color);\n",
              "    }\n",
              "    30% {\n",
              "      border-color: transparent;\n",
              "      border-left-color: var(--fill-color);\n",
              "      border-top-color: var(--fill-color);\n",
              "      border-right-color: var(--fill-color);\n",
              "    }\n",
              "    40% {\n",
              "      border-color: transparent;\n",
              "      border-right-color: var(--fill-color);\n",
              "      border-top-color: var(--fill-color);\n",
              "    }\n",
              "    60% {\n",
              "      border-color: transparent;\n",
              "      border-right-color: var(--fill-color);\n",
              "    }\n",
              "    80% {\n",
              "      border-color: transparent;\n",
              "      border-right-color: var(--fill-color);\n",
              "      border-bottom-color: var(--fill-color);\n",
              "    }\n",
              "    90% {\n",
              "      border-color: transparent;\n",
              "      border-bottom-color: var(--fill-color);\n",
              "    }\n",
              "  }\n",
              "</style>\n",
              "\n",
              "  <script>\n",
              "    async function quickchart(key) {\n",
              "      const quickchartButtonEl =\n",
              "        document.querySelector('#' + key + ' button');\n",
              "      quickchartButtonEl.disabled = true;  // To prevent multiple clicks.\n",
              "      quickchartButtonEl.classList.add('colab-df-spinner');\n",
              "      try {\n",
              "        const charts = await google.colab.kernel.invokeFunction(\n",
              "            'suggestCharts', [key], {});\n",
              "      } catch (error) {\n",
              "        console.error('Error during call to suggestCharts:', error);\n",
              "      }\n",
              "      quickchartButtonEl.classList.remove('colab-df-spinner');\n",
              "      quickchartButtonEl.classList.add('colab-df-quickchart-complete');\n",
              "    }\n",
              "    (() => {\n",
              "      let quickchartButtonEl =\n",
              "        document.querySelector('#df-9cb7c831-4e8b-48b0-b3bb-fd815abde973 button');\n",
              "      quickchartButtonEl.style.display =\n",
              "        google.colab.kernel.accessAllowed ? 'block' : 'none';\n",
              "    })();\n",
              "  </script>\n",
              "</div>\n",
              "    </div>\n",
              "  </div>\n"
            ]
          },
          "metadata": {},
          "execution_count": 17
        }
      ],
      "source": [
        "print(df.shape)\n",
        "print(df.columns)\n",
        "df.head(2)"
      ]
    },
    {
      "cell_type": "code",
      "execution_count": null,
      "metadata": {
        "colab": {
          "base_uri": "https://localhost:8080/"
        },
        "id": "Yx5HS6r1RUFJ",
        "outputId": "97d49dd2-1b6e-4512-9426-451d923a5991"
      },
      "outputs": [
        {
          "output_type": "stream",
          "name": "stdout",
          "text": [
            "0.77\n"
          ]
        }
      ],
      "source": [
        "# 1. What percentage of sample households have only one two wheeler?\n",
        "\n",
        "ans[\"Q1\"] = round(df[df.TWO_WHEELERS_OWNED == 1].shape[0] / df.TWO_WHEELERS_OWNED.dropna().shape[0], 2)\n",
        "print(ans[\"Q1\"])"
      ]
    },
    {
      "cell_type": "code",
      "execution_count": null,
      "metadata": {
        "colab": {
          "base_uri": "https://localhost:8080/"
        },
        "id": "yyef4QNDRUFK",
        "outputId": "2adbc5c8-de7b-4031-97ff-aeb896f2aad6"
      },
      "outputs": [
        {
          "output_type": "execute_result",
          "data": {
            "text/plain": [
              "0.02"
            ]
          },
          "metadata": {},
          "execution_count": 6
        }
      ],
      "source": [
        "# 2. What percentage of sample households don&#39;t have a two wheeler , but are interested in buying one?\n",
        "\n",
        "ans[\"Q2\"] = round(\n",
        "    df[(df.TWO_WHEELERS_OWNED == 0) & (df.WILL_BUY_TWO_WHEELER == 'Y')].shape[0]\n",
        "    /\n",
        "    df.TWO_WHEELERS_OWNED.dropna().shape[0]\n",
        "    , 2\n",
        "    )\n",
        "ans[\"Q2\"]"
      ]
    },
    {
      "cell_type": "code",
      "execution_count": null,
      "metadata": {
        "colab": {
          "base_uri": "https://localhost:8080/"
        },
        "id": "J7_Q1DL8RUFL",
        "outputId": "3c36d9c7-33de-426c-8b6a-fba20e21deba"
      },
      "outputs": [
        {
          "output_type": "execute_result",
          "data": {
            "text/plain": [
              "0.13"
            ]
          },
          "metadata": {},
          "execution_count": 7
        }
      ],
      "source": [
        "# 3. What percentage of sample households already have a two wheeler, but are interested in buying one more?\n",
        "ans[\"Q3\"] = round(\n",
        "    df[(df.TWO_WHEELERS_OWNED == 1) & (df.WILL_BUY_TWO_WHEELER == 'Y')].shape[0]\n",
        "    /\n",
        "    df.TWO_WHEELERS_OWNED.dropna().shape[0]\n",
        "    , 2\n",
        "    )\n",
        "ans[\"Q3\"]"
      ]
    },
    {
      "cell_type": "code",
      "execution_count": null,
      "metadata": {
        "colab": {
          "base_uri": "https://localhost:8080/"
        },
        "id": "YOg3XDEqRUFM",
        "outputId": "2d3c9046-be1c-4db2-ab7d-64ed9123d082"
      },
      "outputs": [
        {
          "output_type": "execute_result",
          "data": {
            "text/plain": [
              "0.03"
            ]
          },
          "metadata": {},
          "execution_count": 8
        }
      ],
      "source": [
        "# 4. what percentage of urban households don&#39;t have a two wheeler, but are intending to buy immediately?\n",
        "ans[\"Q4\"] = round(\n",
        "    df[(df.TWO_WHEELERS_OWNED == 0) & (df.WILL_BUY_TWO_WHEELER_NOW == 'Y')].shape[0]\n",
        "    /\n",
        "    df[(df.REGION_TYPE == 'URBAN')].shape[0]\n",
        "    , 2\n",
        ")\n",
        "ans[\"Q4\"]"
      ]
    },
    {
      "cell_type": "code",
      "execution_count": null,
      "metadata": {
        "colab": {
          "base_uri": "https://localhost:8080/"
        },
        "id": "oB7RSiCaRUFN",
        "outputId": "c7d46c5a-6213-4df0-b018-0067c4d91283"
      },
      "outputs": [
        {
          "output_type": "execute_result",
          "data": {
            "text/plain": [
              "0.53"
            ]
          },
          "metadata": {},
          "execution_count": 9
        }
      ],
      "source": [
        "# 5. Based on the sample data, What is the existing market share of Commuter bikes?\n",
        "ans[\"Q5\"] = round(\n",
        "    df[df.TYPE_OF_TWO_WHEELER_OWNED == 'Commuter Bike'].TYPE_OF_TWO_WHEELER_OWNED.dropna().shape[0]\n",
        "    /\n",
        "    df.TYPE_OF_TWO_WHEELER_OWNED.dropna().shape[0]\n",
        "    , 2\n",
        ")\n",
        "ans[\"Q5\"]"
      ]
    },
    {
      "cell_type": "code",
      "execution_count": null,
      "metadata": {
        "colab": {
          "base_uri": "https://localhost:8080/"
        },
        "id": "RCP-f6PwRUFO",
        "outputId": "12d6cbd5-c150-46a0-a5d4-8b9f337f2cd4"
      },
      "outputs": [
        {
          "output_type": "execute_result",
          "data": {
            "text/plain": [
              "0.12"
            ]
          },
          "metadata": {},
          "execution_count": 10
        }
      ],
      "source": [
        "# 6. What percentage of Female majority/ Female dominant / Only Female households have a scooter ?\n",
        "female_gender_group = ['Female Majority', 'Female Dominated']\n",
        "ans[\"Q6\"] = round(\n",
        "    df[(df.GENDER_GROUP.apply(lambda x: x in female_gender_group)) & (df.TYPE_OF_TWO_WHEELER_OWNED == 'Scooter')].shape[0]\n",
        "    /\n",
        "    df[(df.GENDER_GROUP != \"Data Not Available\") & (df.TYPE_OF_TWO_WHEELER_OWNED == 'Scooter')].shape[0]\n",
        "    , 2\n",
        ")\n",
        "ans[\"Q6\"]"
      ]
    },
    {
      "cell_type": "code",
      "execution_count": null,
      "metadata": {
        "colab": {
          "base_uri": "https://localhost:8080/"
        },
        "id": "2TH9AZSoRUFP",
        "outputId": "9eec09a2-530c-42f5-c787-0a689ea23763"
      },
      "outputs": [
        {
          "output_type": "execute_result",
          "data": {
            "text/plain": [
              "0.56"
            ]
          },
          "metadata": {},
          "execution_count": 11
        }
      ],
      "source": [
        "# 7. If having an outstanding loan disqualifies the eligibility for a new loan, how many households (%) are eligible for a new loan?\n",
        "ans[\"Q7\"] = round(\n",
        "    df[(df.HAS_OUTSTANDING_BORROWING=='N')].shape[0]\n",
        "    /\n",
        "    df.HAS_OUTSTANDING_BORROWING.dropna().shape[0]\n",
        "    , 2\n",
        ")\n",
        "ans[\"Q7\"]"
      ]
    },
    {
      "cell_type": "code",
      "execution_count": null,
      "metadata": {
        "colab": {
          "base_uri": "https://localhost:8080/"
        },
        "id": "T8yC1o0-RUFP",
        "outputId": "a0841b2c-da95-4922-96ad-188b1a179db0"
      },
      "outputs": [
        {
          "output_type": "execute_result",
          "data": {
            "text/plain": [
              "0.6"
            ]
          },
          "metadata": {},
          "execution_count": 12
        }
      ],
      "source": [
        "# 8. A Bank is willing to provide loans at a lower interest rate if the borrower is willing to pledge a FD as security for the loan. What percentage of households who want to buy a two wheeler would be eligible for a lower interest loan against FD?\n",
        "ans[\"Q8\"] = round(\n",
        "    df[(df.WILL_BUY_TWO_WHEELER == \"Y\") & (df.HAS_OUTSTANDING_SAVING_IN_FIXED_DEPOSITS == \"Y\")].shape[0]\n",
        "    /\n",
        "    df[df.WILL_BUY_TWO_WHEELER == \"Y\"].shape[0]\n",
        "    , 2\n",
        ")\n",
        "ans[\"Q8\"]"
      ]
    },
    {
      "cell_type": "code",
      "execution_count": null,
      "metadata": {
        "colab": {
          "base_uri": "https://localhost:8080/"
        },
        "id": "eMBOfXG_RUFQ",
        "outputId": "000c9810-2306-4ef5-c948-445ed1632138"
      },
      "outputs": [
        {
          "output_type": "execute_result",
          "data": {
            "text/plain": [
              "0.18"
            ]
          },
          "metadata": {},
          "execution_count": 13
        }
      ],
      "source": [
        "# 9. If 24 hour availability of electricity is needed for considering an electric two wheeler, What is the target market share for electric two wheelers?\n",
        "ans[\"Q9\"] = round(\n",
        "    df[(df.WILL_BUY_TWO_WHEELER == 'Y') & (df.POWER_GROUP == '24 hours')].shape[0]\n",
        "    /\n",
        "    df[(df.POWER_GROUP == '24 hours')].shape[0]\n",
        "    , 2\n",
        ")\n",
        "ans[\"Q9\"]"
      ]
    },
    {
      "cell_type": "code",
      "execution_count": null,
      "metadata": {
        "colab": {
          "base_uri": "https://localhost:8080/"
        },
        "id": "POAIA3xrRUFR",
        "outputId": "f83570c4-d384-48cc-a503-05964be31562"
      },
      "outputs": [
        {
          "output_type": "execute_result",
          "data": {
            "text/plain": [
              "1.0"
            ]
          },
          "metadata": {},
          "execution_count": 14
        }
      ],
      "source": [
        "# 10. What percentage of Rural Farmers have at least one two wheeler?\n",
        "accepted_farmers = ['Small/Marginal Farmers', 'Organised Farmers']\n",
        "ans[\"Q10\"] = round(\n",
        "    df[(df.REGION_TYPE == 'RURAL') & (df.OCCUPATION_GROUP.apply(lambda x: x in accepted_farmers)) & (df.TWO_WHEELERS_OWNED == 1)].shape[0]\n",
        "    /\n",
        "    df[(df.REGION_TYPE == 'RURAL') & (df.OCCUPATION_GROUP.apply(lambda x: x in accepted_farmers))].shape[0]\n",
        "    , 2\n",
        ")\n",
        "\n",
        "ans['Q10']"
      ]
    },
    {
      "cell_type": "code",
      "execution_count": null,
      "metadata": {
        "colab": {
          "base_uri": "https://localhost:8080/",
          "height": 17
        },
        "id": "2YEUIWt8RUFR",
        "outputId": "603bd80d-c736-4f5e-b9c7-3c37c043c4b9"
      },
      "outputs": [
        {
          "output_type": "display_data",
          "data": {
            "text/plain": [
              "<IPython.core.display.Javascript object>"
            ],
            "application/javascript": [
              "\n",
              "    async function download(id, filename, size) {\n",
              "      if (!google.colab.kernel.accessAllowed) {\n",
              "        return;\n",
              "      }\n",
              "      const div = document.createElement('div');\n",
              "      const label = document.createElement('label');\n",
              "      label.textContent = `Downloading \"${filename}\": `;\n",
              "      div.appendChild(label);\n",
              "      const progress = document.createElement('progress');\n",
              "      progress.max = size;\n",
              "      div.appendChild(progress);\n",
              "      document.body.appendChild(div);\n",
              "\n",
              "      const buffers = [];\n",
              "      let downloaded = 0;\n",
              "\n",
              "      const channel = await google.colab.kernel.comms.open(id);\n",
              "      // Send a message to notify the kernel that we're ready.\n",
              "      channel.send({})\n",
              "\n",
              "      for await (const message of channel.messages) {\n",
              "        // Send a message to notify the kernel that we're ready.\n",
              "        channel.send({})\n",
              "        if (message.buffers) {\n",
              "          for (const buffer of message.buffers) {\n",
              "            buffers.push(buffer);\n",
              "            downloaded += buffer.byteLength;\n",
              "            progress.value = downloaded;\n",
              "          }\n",
              "        }\n",
              "      }\n",
              "      const blob = new Blob(buffers, {type: 'application/binary'});\n",
              "      const a = document.createElement('a');\n",
              "      a.href = window.URL.createObjectURL(blob);\n",
              "      a.download = filename;\n",
              "      div.appendChild(a);\n",
              "      a.click();\n",
              "      div.remove();\n",
              "    }\n",
              "  "
            ]
          },
          "metadata": {}
        },
        {
          "output_type": "display_data",
          "data": {
            "text/plain": [
              "<IPython.core.display.Javascript object>"
            ],
            "application/javascript": [
              "download(\"download_d5f3ae1d-eb5b-49b7-8ee2-da92f3dcc01e\", \"answers_dataset_3_931.csv\", 78)"
            ]
          },
          "metadata": {}
        }
      ],
      "source": [
        "output = \"\\n\".join([\",\".join(str(item) for item in items) for items in ans.items()])\n",
        "\n",
        "with open(WRITE_PATH, \"w+\") as f:\n",
        "    f.write(output)\n",
        "\n",
        "files.download(WRITE_PATH)"
      ]
    }
  ],
  "metadata": {
    "kernelspec": {
      "display_name": "base",
      "language": "python",
      "name": "python3"
    },
    "language_info": {
      "codemirror_mode": {
        "name": "ipython",
        "version": 3
      },
      "file_extension": ".py",
      "mimetype": "text/x-python",
      "name": "python",
      "nbconvert_exporter": "python",
      "pygments_lexer": "ipython3",
      "version": "3.11.5"
    },
    "colab": {
      "provenance": []
    }
  },
  "nbformat": 4,
  "nbformat_minor": 0
}